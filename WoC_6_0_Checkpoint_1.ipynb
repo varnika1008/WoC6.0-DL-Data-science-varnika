{
  "nbformat": 4,
  "nbformat_minor": 0,
  "metadata": {
    "colab": {
      "provenance": [],
      "authorship_tag": "ABX9TyNEWvPQ4e/JvA2ymXhalGLK",
      "include_colab_link": true
    },
    "kernelspec": {
      "name": "python3",
      "display_name": "Python 3"
    },
    "language_info": {
      "name": "python"
    }
  },
  "cells": [
    {
      "cell_type": "markdown",
      "metadata": {
        "id": "view-in-github",
        "colab_type": "text"
      },
      "source": [
        "<a href=\"https://colab.research.google.com/github/varnika1008/varnika/blob/main/WoC_6_0_Checkpoint_1.ipynb\" target=\"_parent\"><img src=\"https://colab.research.google.com/assets/colab-badge.svg\" alt=\"Open In Colab\"/></a>"
      ]
    },
    {
      "cell_type": "markdown",
      "source": [
        "ARRAY"
      ],
      "metadata": {
        "id": "Yl-dZrPmtmSy"
      }
    },
    {
      "cell_type": "code",
      "execution_count": null,
      "metadata": {
        "colab": {
          "base_uri": "https://localhost:8080/"
        },
        "id": "r7alAMETn-Qj",
        "outputId": "7ebc2701-1abe-4b73-f895-0640c35e6fc2"
      },
      "outputs": [
        {
          "output_type": "stream",
          "name": "stdout",
          "text": [
            "[1 2 3 4 5]\n",
            "<class 'numpy.ndarray'>\n"
          ]
        }
      ],
      "source": [
        "import numpy as np\n",
        "\n",
        "x=np.array([1,2,3,4,5])\n",
        "print(x)\n",
        "print(type(x))"
      ]
    },
    {
      "cell_type": "markdown",
      "source": [
        "ZEROS"
      ],
      "metadata": {
        "id": "cLvcOh77tofv"
      }
    },
    {
      "cell_type": "code",
      "source": [
        "y=np.zeros(4)\n",
        "print(y)\n",
        "z=np.zeros((2,3))\n",
        "print(z)"
      ],
      "metadata": {
        "colab": {
          "base_uri": "https://localhost:8080/"
        },
        "id": "nBZWNP5FqRir",
        "outputId": "775c9306-4c36-4128-d0c2-7cb8d4593a1d"
      },
      "execution_count": null,
      "outputs": [
        {
          "output_type": "stream",
          "name": "stdout",
          "text": [
            "[0. 0. 0. 0.]\n",
            "[[0. 0. 0.]\n",
            " [0. 0. 0.]]\n"
          ]
        }
      ]
    },
    {
      "cell_type": "markdown",
      "source": [
        "ONES"
      ],
      "metadata": {
        "id": "S3qAMX66tqr9"
      }
    },
    {
      "cell_type": "code",
      "source": [
        "a=np.ones(4)\n",
        "print(a)\n",
        "b=np.ones([3,3])\n",
        "print(b)"
      ],
      "metadata": {
        "colab": {
          "base_uri": "https://localhost:8080/"
        },
        "id": "DP_Tuj5jsUya",
        "outputId": "0f5f8d31-d559-4f8e-aebc-39087b729576"
      },
      "execution_count": null,
      "outputs": [
        {
          "output_type": "stream",
          "name": "stdout",
          "text": [
            "[1. 1. 1. 1.]\n",
            "[[1. 1. 1.]\n",
            " [1. 1. 1.]\n",
            " [1. 1. 1.]]\n"
          ]
        }
      ]
    },
    {
      "cell_type": "markdown",
      "source": [
        "RESHAPE"
      ],
      "metadata": {
        "id": "X4ErJDvatsLv"
      }
    },
    {
      "cell_type": "code",
      "source": [
        "arry=np.array([1,2,3,4])\n",
        "reshape=arry.reshape(2,2)\n",
        "print(reshape)"
      ],
      "metadata": {
        "colab": {
          "base_uri": "https://localhost:8080/"
        },
        "id": "8sMNKSWOs97G",
        "outputId": "6fa69021-0508-4ffc-b5b2-21eada3ec2a0"
      },
      "execution_count": null,
      "outputs": [
        {
          "output_type": "stream",
          "name": "stdout",
          "text": [
            "[[1 2]\n",
            " [3 4]]\n"
          ]
        }
      ]
    },
    {
      "cell_type": "markdown",
      "source": [
        "CONCATENATE"
      ],
      "metadata": {
        "id": "5oj6Jd3yuDwO"
      }
    },
    {
      "cell_type": "code",
      "source": [
        "c=np.array([1,2,3,4])\n",
        "d=np.array([5,6,7,8])\n",
        "concat=np.concatenate((c,d))\n",
        "print(concat)"
      ],
      "metadata": {
        "colab": {
          "base_uri": "https://localhost:8080/"
        },
        "id": "K5SUnXjPuPY3",
        "outputId": "9fc1aebf-ee69-45db-ed15-a87117db9a0e"
      },
      "execution_count": null,
      "outputs": [
        {
          "output_type": "stream",
          "name": "stdout",
          "text": [
            "[1 2 3 4 5 6 7 8]\n"
          ]
        }
      ]
    },
    {
      "cell_type": "markdown",
      "source": [
        "MEAN"
      ],
      "metadata": {
        "id": "L4dHEaXsvpSL"
      }
    },
    {
      "cell_type": "code",
      "source": [
        "arry=np.array([1,2,3,4])\n",
        "mean=np.mean(arry)\n",
        "print(mean)"
      ],
      "metadata": {
        "colab": {
          "base_uri": "https://localhost:8080/"
        },
        "id": "Q9zMsqYHv6_n",
        "outputId": "a4df667c-095c-4091-9d8e-34bb9c4a64f4"
      },
      "execution_count": null,
      "outputs": [
        {
          "output_type": "stream",
          "name": "stdout",
          "text": [
            "2.5\n"
          ]
        }
      ]
    },
    {
      "cell_type": "markdown",
      "source": [
        "SUM"
      ],
      "metadata": {
        "id": "i_kM8O50wYO5"
      }
    },
    {
      "cell_type": "code",
      "source": [
        "sum=np.sum(arry)\n",
        "print(sum)"
      ],
      "metadata": {
        "colab": {
          "base_uri": "https://localhost:8080/"
        },
        "id": "p2AFwRa4wb_r",
        "outputId": "8e43c8b3-bc2b-4c60-ec46-6d5392b4ec79"
      },
      "execution_count": null,
      "outputs": [
        {
          "output_type": "stream",
          "name": "stdout",
          "text": [
            "10\n"
          ]
        }
      ]
    },
    {
      "cell_type": "markdown",
      "source": [
        "MINIMUM"
      ],
      "metadata": {
        "id": "sNdgps_6wx5W"
      }
    },
    {
      "cell_type": "code",
      "source": [
        "min=np.min(arry)\n",
        "print(min)"
      ],
      "metadata": {
        "colab": {
          "base_uri": "https://localhost:8080/"
        },
        "id": "FS3wH5mCw7b7",
        "outputId": "6f634a59-7148-4b67-9968-348a228da4ca"
      },
      "execution_count": null,
      "outputs": [
        {
          "output_type": "stream",
          "name": "stdout",
          "text": [
            "1\n"
          ]
        }
      ]
    },
    {
      "cell_type": "markdown",
      "source": [
        "MAXIMUM"
      ],
      "metadata": {
        "id": "fbg-Ah7mxDxz"
      }
    },
    {
      "cell_type": "code",
      "source": [
        "max=np.max(arry)\n",
        "print(max)"
      ],
      "metadata": {
        "colab": {
          "base_uri": "https://localhost:8080/"
        },
        "id": "sUB9UTLbxFKK",
        "outputId": "d3ec56e5-8cda-4538-f0aa-1c3ccba4d9db"
      },
      "execution_count": null,
      "outputs": [
        {
          "output_type": "stream",
          "name": "stdout",
          "text": [
            "4\n"
          ]
        }
      ]
    },
    {
      "cell_type": "markdown",
      "source": [
        "ARGMAX"
      ],
      "metadata": {
        "id": "L9Go5tZexLtd"
      }
    },
    {
      "cell_type": "code",
      "source": [
        "armax=np.argmax(arry)\n",
        "print(armax)"
      ],
      "metadata": {
        "colab": {
          "base_uri": "https://localhost:8080/"
        },
        "id": "4TiSSZIHzCJm",
        "outputId": "8f97387e-08b7-4c49-fcd9-61268af5f892"
      },
      "execution_count": null,
      "outputs": [
        {
          "output_type": "stream",
          "name": "stdout",
          "text": [
            "3\n"
          ]
        }
      ]
    },
    {
      "cell_type": "markdown",
      "source": [
        "ARGMIN"
      ],
      "metadata": {
        "id": "gy4MlmnVzPHp"
      }
    },
    {
      "cell_type": "code",
      "source": [
        "armin=np.argmin(arry)\n",
        "print(armin)"
      ],
      "metadata": {
        "colab": {
          "base_uri": "https://localhost:8080/"
        },
        "id": "jcAJYKO2zQas",
        "outputId": "9ea44867-7961-463d-94ab-16044b6be271"
      },
      "execution_count": null,
      "outputs": [
        {
          "output_type": "stream",
          "name": "stdout",
          "text": [
            "0\n"
          ]
        }
      ]
    },
    {
      "cell_type": "markdown",
      "source": [
        "RANDOM"
      ],
      "metadata": {
        "id": "1oXt28X-zppR"
      }
    },
    {
      "cell_type": "code",
      "source": [
        "rand=np.random.rand(2,3)\n",
        "print(rand)"
      ],
      "metadata": {
        "colab": {
          "base_uri": "https://localhost:8080/"
        },
        "id": "OgMYoCkUzs86",
        "outputId": "98a511d7-3a36-4913-9ce5-a36dbc569760"
      },
      "execution_count": null,
      "outputs": [
        {
          "output_type": "stream",
          "name": "stdout",
          "text": [
            "[[0.84649824 0.78375432 0.64273399]\n",
            " [0.38282968 0.25055051 0.02596192]]\n"
          ]
        }
      ]
    },
    {
      "cell_type": "markdown",
      "source": [
        "random.randn"
      ],
      "metadata": {
        "id": "LWYmji2s0M5B"
      }
    },
    {
      "cell_type": "code",
      "source": [
        "randn=np.random.randn(2,4)\n",
        "print(randn)"
      ],
      "metadata": {
        "colab": {
          "base_uri": "https://localhost:8080/"
        },
        "id": "Vzj3e_4H0gR8",
        "outputId": "138e554d-1d70-4888-bc54-0fe5c9036da8"
      },
      "execution_count": null,
      "outputs": [
        {
          "output_type": "stream",
          "name": "stdout",
          "text": [
            "[[ 0.22422335  0.75464885 -0.4695166  -0.50818761]\n",
            " [-0.64533663 -0.72222112 -0.00809768  0.25388894]]\n"
          ]
        }
      ]
    },
    {
      "cell_type": "markdown",
      "source": [
        "random.randint"
      ],
      "metadata": {
        "id": "bLl_bAz30tnm"
      }
    },
    {
      "cell_type": "code",
      "source": [
        "randint=np.random.randint(3,5)\n",
        "print(randint)"
      ],
      "metadata": {
        "colab": {
          "base_uri": "https://localhost:8080/"
        },
        "id": "1fBKn0FC09fA",
        "outputId": "926f0065-4e20-4477-b687-f1e165695830"
      },
      "execution_count": null,
      "outputs": [
        {
          "output_type": "stream",
          "name": "stdout",
          "text": [
            "4\n"
          ]
        }
      ]
    },
    {
      "cell_type": "markdown",
      "source": [
        "DOT"
      ],
      "metadata": {
        "id": "KOAKcNQw1LkF"
      }
    },
    {
      "cell_type": "code",
      "source": [
        "dot=np.dot(5,2)\n",
        "print(dot)"
      ],
      "metadata": {
        "colab": {
          "base_uri": "https://localhost:8080/"
        },
        "id": "IEXH2kEC1Oul",
        "outputId": "63b34b89-cfe9-4a98-a100-c7d7dd4aadd0"
      },
      "execution_count": null,
      "outputs": [
        {
          "output_type": "stream",
          "name": "stdout",
          "text": [
            "10\n"
          ]
        }
      ]
    }
  ]
}